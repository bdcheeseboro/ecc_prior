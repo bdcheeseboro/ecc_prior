{
 "cells": [
  {
   "cell_type": "code",
   "execution_count": null,
   "metadata": {},
   "outputs": [],
   "source": [
    "%load_ext autoreload"
   ]
  },
  {
   "cell_type": "code",
   "execution_count": null,
   "metadata": {},
   "outputs": [],
   "source": [
    "from __future__ import (absolute_import, division,\n",
    "                        print_function, unicode_literals)\n",
    "\n",
    "import numpy as np\n",
    "import matplotlib.pyplot as plt\n",
    "import ceedub as cw\n",
    "\n",
    "from scipy.signal import argrelmax\n",
    "from scipy.optimize import minimize_scalar\n",
    "\n",
    "%matplotlib inline\n",
    "%autoreload 2"
   ]
  },
  {
   "cell_type": "markdown",
   "metadata": {},
   "source": [
    "# Definitions"
   ]
  },
  {
   "cell_type": "code",
   "execution_count": null,
   "metadata": {},
   "outputs": [],
   "source": [
    "GMsun = 1.32712440018e20  # m^3/s^2\n",
    "c = 299792458 # m/s\n",
    "\n",
    "Rsun = GMsun / c**2\n",
    "Tsun = GMsun / c**3"
   ]
  },
  {
   "cell_type": "markdown",
   "metadata": {},
   "source": [
    "## Newtonian orbital parameters"
   ]
  },
  {
   "cell_type": "code",
   "execution_count": null,
   "metadata": {},
   "outputs": [],
   "source": [
    "def dvp_N(vp, de, eta):\n",
    "    \"\"\"Newtonian change in pericenter speed\n",
    "    eq. 71 of L&Y\n",
    "    \"\"\"\n",
    "    return -13*np.pi/96 * eta * vp**6 * (1 + 44/65*de)\n",
    "\n",
    "def dde_N(vp, de, eta):\n",
    "    \"\"\"Newtonian change in eccentricity\n",
    "    eq. 72 of L&Y\n",
    "    \"\"\"\n",
    "    return 85*np.pi/48 * eta * vp**5 * (1 + 791/850*de)\n",
    "\n",
    "def T_N(vp, de, Mtot=1):\n",
    "    \"\"\"Newtonian orbital period (time between bursts)\n",
    "    eq. 76 of L&Y\n",
    "    \"\"\"\n",
    "    return 2*np.pi * Mtot / vp**3 * ((2-de)/de)**(3/2)\n",
    "\n",
    "def f_N(vp, de, Mtot=1):\n",
    "    \"\"\"Newtonian GW frequency of burst\n",
    "    eq. 79 of L&Y\n",
    "    \"\"\"\n",
    "    return vp**3 / (2*np.pi*Mtot * (2-de))"
   ]
  },
  {
   "cell_type": "markdown",
   "metadata": {},
   "source": [
    "## second order ($\\frac{v^2}{c^2}$) corrections for orbits"
   ]
  },
  {
   "cell_type": "code",
   "execution_count": null,
   "metadata": {},
   "outputs": [],
   "source": [
    "def V2(de, eta):\n",
    "    \"\"\"1PN correction to change in pericenter speed\n",
    "    order (v/c)^2\n",
    "    eq. 73 of L&Y\n",
    "    \"\"\"\n",
    "    return -251/104*eta + 8321/2080 + de*(14541/6760*eta - 98519/135200)\n",
    "\n",
    "def D2(de, eta):\n",
    "    \"\"\"1PN correction to change in eccentricity\n",
    "    order (v/c)^2\n",
    "    eq. 74 of L&Y\n",
    "    \"\"\"\n",
    "    return -4017/680*eta + 4773/800 + de*(225393/144500*eta - 602109/340000)\n",
    "\n",
    "def P2(de, eta):\n",
    "    \"\"\"1PN correction to orbital period (time between bursts)\n",
    "    order (v/c)^2\n",
    "    eq. 77 of L&Y\n",
    "    \"\"\"\n",
    "    return 3/2*eta - 3/4 + de*(-5/8*eta + 3/4)\n",
    "\n",
    "def R2(de, eta):\n",
    "    \"\"\"1PN correction to GW frequency\n",
    "    order (v/c)^2\n",
    "    eq. 80 of L&Y\n",
    "    \"\"\"\n",
    "    return 7/4*eta - 5/2 - 5/8*de*eta"
   ]
  },
  {
   "cell_type": "markdown",
   "metadata": {},
   "source": [
    "## 1PN orbital parameters (next given prev)"
   ]
  },
  {
   "cell_type": "code",
   "execution_count": null,
   "metadata": {},
   "outputs": [],
   "source": [
    "def dvp_1PN(vp0, de0, eta):\n",
    "    \"\"\"1PN change in pericenter speed\n",
    "    eq. 69 of L&Y\n",
    "    \"\"\"\n",
    "    return dvp_N(vp0, de0, eta) * (1 + V2(de0, eta)*vp0**2)\n",
    "\n",
    "def dde_1PN(vp0, de0, eta):\n",
    "    \"\"\"1PN change in eccentricity\n",
    "    eq. 70 of L&Y\n",
    "    \"\"\"\n",
    "    return dde_N(vp0, de0, eta) * (1 + D2(de0, eta)*vp0**2)\n",
    "\n",
    "def T_PN(vp0, de0, eta, Mtot=1):\n",
    "    \"\"\"1PN orbital period (time between bursts)\n",
    "    eq. 75 of L&Y\n",
    "    \"\"\"\n",
    "    vp1 = vp0 + dvp_1PN(vp0, de0, eta)\n",
    "    de1 = de0 + dde_1PN(vp0, de0, eta)\n",
    "    return T_N(vp1, de1, Mtot) * (1 + P2(de1, eta)*vp1**2)\n",
    "\n",
    "def f_PN(vp0, de0, eta, Mtot=1):\n",
    "    \"\"\"1PN GW frequency of burst\n",
    "    eq. 78 of L&Y\n",
    "    \"\"\"\n",
    "    vp1 = vp0 + dvp_1PN(vp0, de0, eta)\n",
    "    de1 = de0 + dde_1PN(vp0, de0, eta)\n",
    "    return f_N(vp1, de1, Mtot) * (1 - R2(de1, eta)*vp1**2)"
   ]
  },
  {
   "cell_type": "markdown",
   "metadata": {},
   "source": [
    "# testing"
   ]
  },
  {
   "cell_type": "code",
   "execution_count": null,
   "metadata": {},
   "outputs": [],
   "source": [
    "tf_correct = [[-1754.0, 0.021160242920888948],\n",
    "              [-614.0, 0.023075408530304677],\n",
    "              [-203.0, 0.027441440005832807],\n",
    "              [0.0, 0.05255602595335716]\n",
    "             ]"
   ]
  },
  {
   "cell_type": "code",
   "execution_count": null,
   "metadata": {},
   "outputs": [],
   "source": [
    "Mtot = 30\n",
    "q = 0.25\n",
    "\n",
    "eta = q / (1+q)**2"
   ]
  },
  {
   "cell_type": "code",
   "execution_count": null,
   "metadata": {},
   "outputs": [],
   "source": [
    "t_star, f_star = tf_correct[2]\n",
    "t_next, f_next = tf_correct[3]"
   ]
  },
  {
   "cell_type": "code",
   "execution_count": null,
   "metadata": {},
   "outputs": [],
   "source": [
    "def diff_for(de):\n",
    "    vp = (2*np.pi*f_star * (2-de))**(1/3)\n",
    "    t = t_star + T_PN(vp, de, eta)\n",
    "    f = f_PN(vp, de, eta)\n",
    "    return np.abs(t-t_next)"
   ]
  },
  {
   "cell_type": "code",
   "execution_count": null,
   "metadata": {},
   "outputs": [],
   "source": [
    "des = np.arange(0.01, 0.99, 1e-2)\n",
    "diff = [diff_for(x) for x in des]\n",
    "plt.plot(des, diff)"
   ]
  },
  {
   "cell_type": "code",
   "execution_count": null,
   "metadata": {},
   "outputs": [],
   "source": [
    "de + dde_1PN(vp, de, eta)"
   ]
  },
  {
   "cell_type": "code",
   "execution_count": null,
   "metadata": {},
   "outputs": [],
   "source": [
    "de = 0.95\n",
    "vp = (2*np.pi*f_star * (2-de))**(1/3)\n",
    "t = t_star + T_PN(vp, de, eta)\n",
    "f = f_PN(vp, de, eta)"
   ]
  },
  {
   "cell_type": "code",
   "execution_count": null,
   "metadata": {},
   "outputs": [],
   "source": [
    "t,f"
   ]
  },
  {
   "cell_type": "code",
   "execution_count": null,
   "metadata": {},
   "outputs": [],
   "source": [
    "f_next"
   ]
  },
  {
   "cell_type": "code",
   "execution_count": null,
   "metadata": {},
   "outputs": [],
   "source": [
    "vps = np.arange(0.05, 0.95, 0.01)\n",
    "des = np.arange(0.01, 0.50, 0.01)\n",
    "period = np.zeros([len(vps), len(des)])\n",
    "\n",
    "for ii,vp in enumerate(vps):\n",
    "    for jj,de in enumerate(des):\n",
    "        period[ii,jj] = T_N(vp, de)"
   ]
  },
  {
   "cell_type": "code",
   "execution_count": null,
   "metadata": {},
   "outputs": [],
   "source": [
    "np.log10(np.diff(np.array(tf_correct).T[0]))"
   ]
  },
  {
   "cell_type": "code",
   "execution_count": null,
   "metadata": {},
   "outputs": [],
   "source": [
    "dT = np.log10(np.diff(np.array(tf_correct).T[0]))\n",
    "\n",
    "#plt.pcolormesh(des, vps, np.log10(period))\n",
    "plt.contourf(des, vps, np.log10(period))#, colors='k')\n",
    "plt.colorbar()\n",
    "plt.scatter([0.25, 0.3, 0.35, 0.4], [0.83, 0.75, 0.68, 0.63], marker='x', s=100, color='r')\n",
    "\n",
    "plt.ylabel(r\"$v/c$\")\n",
    "plt.xlabel(r\"$\\delta e = 1-e$\")"
   ]
  },
  {
   "cell_type": "code",
   "execution_count": null,
   "metadata": {},
   "outputs": [],
   "source": [
    "np.diff(np.array(tf_correct).T[0])"
   ]
  },
  {
   "cell_type": "code",
   "execution_count": null,
   "metadata": {},
   "outputs": [],
   "source": [
    "de = 0.4\n",
    "vp = (2*np.pi*f_star * (2-de))**(1/3)\n",
    "print(\"de = {:.2f}, vp = {:.3f}\".format(de, vp))\n",
    "\n",
    "vp=0.53\n",
    "print(T_N(vp, de))\n",
    "print(T_PN(vp, de, eta))"
   ]
  },
  {
   "cell_type": "code",
   "execution_count": null,
   "metadata": {},
   "outputs": [],
   "source": [
    "from scipy.optimize import minimize\n",
    "\n",
    "Mtot = 30\n",
    "q = 0.25\n",
    "\n",
    "eta = q / (1+q)**2\n",
    "\n",
    "t_star, f_star = tf_correct[2]\n",
    "t_next, f_next = tf_correct[3]\n",
    "\n",
    "sigT = 5  # hit 203 +/- 5\n",
    "sigF = 0.005  # hit 0.052 +/- 0.005\n",
    "\n",
    "def diff_for(x):\n",
    "    vp, de = x\n",
    "    t = t_star + T_PN(vp, de, eta)\n",
    "    f = f_PN(vp, de, eta)\n",
    "    return (t-t_next)**2/sigT**2 + (f-f_next)**2/sigF**2\n",
    "\n",
    "guess = [0.50, 0.40]\n",
    "cnstrnt = [{'type':'ineq', 'fun':lambda x: x[0]},\n",
    "           {'type':'ineq', 'fun':lambda x: x[1]}]  # both params must be non-negative\n",
    "result = minimize(diff_for, guess, method='SLSQP', constraints=cnstrnt)\n",
    "print(result.x)"
   ]
  },
  {
   "cell_type": "code",
   "execution_count": null,
   "metadata": {},
   "outputs": [],
   "source": [
    "vp, de = result.x"
   ]
  },
  {
   "cell_type": "code",
   "execution_count": null,
   "metadata": {},
   "outputs": [],
   "source": [
    "T_PN(vp, de, eta)"
   ]
  },
  {
   "cell_type": "code",
   "execution_count": null,
   "metadata": {},
   "outputs": [],
   "source": [
    "f_PN(vp, de, eta)"
   ]
  },
  {
   "cell_type": "code",
   "execution_count": null,
   "metadata": {},
   "outputs": [],
   "source": [
    "tf_correct"
   ]
  },
  {
   "cell_type": "code",
   "execution_count": null,
   "metadata": {},
   "outputs": [],
   "source": [
    "fun = lambda x: x[1]\n",
    "fun(result.x)"
   ]
  },
  {
   "cell_type": "code",
   "execution_count": null,
   "metadata": {},
   "outputs": [],
   "source": []
  }
 ],
 "metadata": {
  "kernelspec": {
   "display_name": "Python 3",
   "language": "python",
   "name": "python3"
  },
  "language_info": {
   "codemirror_mode": {
    "name": "ipython",
    "version": 3
   },
   "file_extension": ".py",
   "mimetype": "text/x-python",
   "name": "python",
   "nbconvert_exporter": "python",
   "pygments_lexer": "ipython3",
   "version": "3.6.4"
  }
 },
 "nbformat": 4,
 "nbformat_minor": 2
}
