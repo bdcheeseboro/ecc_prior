{
 "cells": [
  {
   "cell_type": "code",
   "execution_count": 1,
   "metadata": {},
   "outputs": [],
   "source": [
    "%load_ext autoreload\n",
    "\n",
    "import sys\n",
    "sys.path.append('../')"
   ]
  },
  {
   "cell_type": "code",
   "execution_count": 2,
   "metadata": {},
   "outputs": [],
   "source": [
    "import numpy as np\n",
    "import matplotlib.pyplot as plt\n",
    "import ceedub as cw\n",
    "\n",
    "from scipy.signal import argrelmax\n",
    "from scipy.optimize import minimize_scalar\n",
    "\n",
    "import ecc_prior as ep\n",
    "\n",
    "%matplotlib inline\n",
    "%autoreload 2"
   ]
  },
  {
   "cell_type": "code",
   "execution_count": 3,
   "metadata": {},
   "outputs": [],
   "source": [
    "GMsun = 1.32712440018e20  # m^3/s^2\n",
    "c = 299792458 # m/s\n",
    "Tsun = GMsun / c**3"
   ]
  },
  {
   "cell_type": "markdown",
   "metadata": {},
   "source": [
    "# Test covariance stuff in EccBurst"
   ]
  },
  {
   "cell_type": "code",
   "execution_count": 4,
   "metadata": {},
   "outputs": [
    {
     "name": "stdout",
     "output_type": "stream",
     "text": [
      "Mc = 12.24\n",
      "r = 4.85\n"
     ]
    }
   ],
   "source": [
    "Mtot = 40\n",
    "q = 0.2\n",
    "tstar = -0.1\n",
    "fstar = 100\n",
    "destar = 0.25\n",
    "\n",
    "eb = ep.EccBurst(q)\n",
    "\n",
    "M2sec = Mtot*Tsun\n",
    "tM = tstar/M2sec\n",
    "fM = fstar*M2sec\n",
    "\n",
    "print(\"Mc = {:.2f}\".format(eb.Mchirp * Mtot))\n",
    "\n",
    "rstar = ep.ecc_prior._rp_kepler(destar, fstar, Mtot)\n",
    "print(\"r = {:.2f}\".format(rstar))"
   ]
  },
  {
   "cell_type": "code",
   "execution_count": 5,
   "metadata": {},
   "outputs": [
    {
     "name": "stdout",
     "output_type": "stream",
     "text": [
      "(-0.1, 0.005830052442583624, 0.005830052442583624) 0.0\n",
      "(100.0, 103.2171563308743, 103.00777772700245) 0.0020285252114547844\n",
      "(0.25, 0.3141889871504674, 0.31528633872027856) -0.0034926481025435727\n"
     ]
    }
   ],
   "source": [
    "t1, f1, r1, de1 = eb.tf_forward(tM, fM, rstar, destar)\n",
    "tn, fn, den = eb.tfe_forward(tM, fM, destar)\n",
    "\n",
    "ts = (tM*M2sec, t1*M2sec, tn*M2sec)\n",
    "fs = (fM/M2sec, f1/M2sec, fn/M2sec)\n",
    "des = (destar, de1, den)\n",
    "\n",
    "print(ts, (t1-tn)/t1)\n",
    "print(fs, (f1-fn)/f1)\n",
    "print(des, (de1-den)/de1)"
   ]
  },
  {
   "cell_type": "code",
   "execution_count": null,
   "metadata": {},
   "outputs": [],
   "source": []
  },
  {
   "cell_type": "code",
   "execution_count": 6,
   "metadata": {},
   "outputs": [
    {
     "name": "stdout",
     "output_type": "stream",
     "text": [
      "(-0.1, -0.20583005244258362, -0.20583005244258362) -0.0\n",
      "(100.0, 96.97638022663031, 96.94214607877848) 0.00035301531952236856\n",
      "(0.25, 0.18581101284953266, 0.18964991904893394) -0.020660272717580915\n"
     ]
    }
   ],
   "source": [
    "t1, f1, r1, de1 = eb.tf_backward(tM, fM, rstar, destar)\n",
    "tn, fn, den = eb.tfe_backward(tM, fM, destar)\n",
    "\n",
    "ts = (tM*M2sec, t1*M2sec, tn*M2sec)\n",
    "fs = (fM/M2sec, f1/M2sec, fn/M2sec)\n",
    "des = (destar, de1, den)\n",
    "\n",
    "print(ts, (t1-tn)/t1)\n",
    "print(fs, (f1-fn)/f1)\n",
    "print(des, (de1-den)/de1)"
   ]
  },
  {
   "cell_type": "code",
   "execution_count": 7,
   "metadata": {},
   "outputs": [],
   "source": [
    "tmin, tmax = -5/M2sec, 1/M2sec\n",
    "bursts = eb.get_all_bursts(tM, fM, destar, tmin, tmax)\n",
    "bur_old = eb.get_all_bursts_old(tM, fM, destar, tmin, tmax)"
   ]
  },
  {
   "cell_type": "code",
   "execution_count": 8,
   "metadata": {},
   "outputs": [],
   "source": [
    "bursts_SI = np.array([[t*M2sec, f/M2sec, de] for t,f,de in bursts])\n",
    "bur_old_SI = np.array([[t*M2sec, f/M2sec, de] for t,f,de in bur_old])"
   ]
  },
  {
   "cell_type": "code",
   "execution_count": 11,
   "metadata": {},
   "outputs": [
    {
     "data": {
      "text/plain": [
       "2.7003548217631286"
      ]
     },
     "execution_count": 11,
     "metadata": {},
     "output_type": "execute_result"
    }
   ],
   "source": [
    "eb._rp_kepler(np.array(bursts)[-1,2], np.array(bursts)[-1,1])"
   ]
  },
  {
   "cell_type": "code",
   "execution_count": 12,
   "metadata": {},
   "outputs": [],
   "source": [
    "ts, fs, des = bursts_SI.T\n",
    "to, fo, deo = bur_old_SI.T"
   ]
  },
  {
   "cell_type": "code",
   "execution_count": 14,
   "metadata": {},
   "outputs": [
    {
     "data": {
      "image/png": "[encoded data removed]",
      "text/plain": [
       "<Figure size 432x288 with 1 Axes>"
      ]
     },
     "metadata": {
      "needs_background": "light"
     },
     "output_type": "display_data"
    }
   ],
   "source": [
    "plt.plot(ts, fs, ls='none', marker='o')\n",
    "plt.plot(to, fo, ls='none', marker='x')\n",
    "plt.yscale('log')"
   ]
  },
  {
   "cell_type": "code",
   "execution_count": null,
   "metadata": {},
   "outputs": [],
   "source": []
  }
 ],
 "metadata": {
  "kernelspec": {
   "display_name": "Python 3",
   "language": "python",
   "name": "python3"
  },
  "language_info": {
   "codemirror_mode": {
    "name": "ipython",
    "version": 3
   },
   "file_extension": ".py",
   "mimetype": "text/x-python",
   "name": "python",
   "nbconvert_exporter": "python",
   "pygments_lexer": "ipython3",
   "version": "3.6.7"
  }
 },
 "nbformat": 4,
 "nbformat_minor": 2
}
