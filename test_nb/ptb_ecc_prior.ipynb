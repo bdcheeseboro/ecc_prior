{
 "cells": [
  {
   "cell_type": "code",
   "execution_count": null,
   "metadata": {},
   "outputs": [],
   "source": [
    "import sys\n",
    "sys.path.append('../')"
   ]
  },
  {
   "cell_type": "code",
   "execution_count": null,
   "metadata": {},
   "outputs": [],
   "source": [
    "%load_ext autoreload"
   ]
  },
  {
   "cell_type": "code",
   "execution_count": null,
   "metadata": {},
   "outputs": [],
   "source": [
    "from __future__ import (absolute_import, division,\n",
    "                        print_function, unicode_literals)\n",
    "import numpy as np\n",
    "import matplotlib.pyplot as plt\n",
    "import ceedub as cw\n",
    "\n",
    "from scipy.signal import argrelmax\n",
    "from scipy.optimize import minimize_scalar\n",
    "\n",
    "from ecc_prior.ecc_burst import EccBurst\n",
    "\n",
    "%matplotlib inline\n",
    "%autoreload 2"
   ]
  },
  {
   "cell_type": "markdown",
   "metadata": {},
   "source": [
    "# Definitions!"
   ]
  },
  {
   "cell_type": "code",
   "execution_count": null,
   "metadata": {},
   "outputs": [],
   "source": [
    "GMsun = 1.32712440018e20  # m^3/s^2\n",
    "c = 299792458 # m/s\n",
    "\n",
    "Rsun = GMsun / c**2\n",
    "Tsun = GMsun / c**3"
   ]
  },
  {
   "cell_type": "code",
   "execution_count": null,
   "metadata": {},
   "outputs": [],
   "source": [
    "def bigauss(x, x0=np.array([0,0]), cov=np.diag([1,1])):\n",
    "    \"\"\"bivariate Gaussian\n",
    "    \"\"\"\n",
    "    x = np.asarray(x)\n",
    "    x0 = np.asarray(x0)\n",
    "    cov = np.asarray(cov)\n",
    "    icov = np.linalg.inv(cov)\n",
    "    dx = x-x0\n",
    "    \n",
    "    #norm = 1/np.sqrt(2*np.pi * np.linalg.det(cov))\n",
    "    arg = -0.5 * np.einsum('i,ij,j', dx, icov, dx)\n",
    "    return np.exp(arg)  # don't normalize\n",
    "    #return norm * np.exp(arg)"
   ]
  },
  {
   "cell_type": "markdown",
   "metadata": {
    "collapsed": true
   },
   "source": [
    "# read in data\n",
    "\n",
    "this data was generated with $q = 0.25$"
   ]
  },
  {
   "cell_type": "code",
   "execution_count": null,
   "metadata": {},
   "outputs": [],
   "source": [
    "t_dat = np.loadtxt('t.dat')\n",
    "hp_dat = np.loadtxt('hp.dat')\n",
    "hc_dat = np.loadtxt('hc.dat')\n",
    "\n",
    "A_dat = np.sqrt(hp_dat**2 + hc_dat**2)  # intrinsic GW amplitude"
   ]
  },
  {
   "cell_type": "code",
   "execution_count": null,
   "metadata": {},
   "outputs": [],
   "source": [
    "plt.plot(t_dat, hp_dat)\n",
    "plt.xlabel('$t/M$');"
   ]
  },
  {
   "cell_type": "code",
   "execution_count": null,
   "metadata": {},
   "outputs": [],
   "source": [
    "plt.plot(t_dat, A_dat)\n",
    "plt.xlabel('$t/M$');\n",
    "plt.xlim([33000, 37500]);"
   ]
  },
  {
   "cell_type": "code",
   "execution_count": null,
   "metadata": {},
   "outputs": [],
   "source": [
    "# set t=0 to merger\n",
    "i_merge = np.argmax(hp_dat**2 + hc_dat**2)\n",
    "t_merge = t_dat[i_merge]\n",
    "t_dat -= t_merge"
   ]
  },
  {
   "cell_type": "markdown",
   "metadata": {},
   "source": [
    "the \"M\" naming convention marks quantities in units of total mass, M."
   ]
  },
  {
   "cell_type": "code",
   "execution_count": null,
   "metadata": {},
   "outputs": [],
   "source": [
    "# assume optimimally oriented +-polarization\n",
    "\n",
    "# get subset for faster CWT and plotting...\n",
    "i_start = 34000\n",
    "tM = t_dat[i_start:]\n",
    "h = hp_dat[i_start:]\n",
    "A = A_dat[i_start:]\n",
    "\n",
    "dtM = tM[1] - tM[0]\n",
    "N = len(tM)"
   ]
  },
  {
   "cell_type": "code",
   "execution_count": null,
   "metadata": {},
   "outputs": [],
   "source": [
    "# find local maxima (t)\n",
    "ii_local_max = argrelmax(A)[0]\n",
    "\n",
    "tM[ii_local_max]"
   ]
  },
  {
   "cell_type": "markdown",
   "metadata": {},
   "source": [
    "# wavelet transform data"
   ]
  },
  {
   "cell_type": "code",
   "execution_count": null,
   "metadata": {},
   "outputs": [],
   "source": [
    "# wavelet transform subset of data\n",
    "dJ = 1/16\n",
    "\n",
    "WB = cw.WaveletBasis(wavelet=cw.MorletWave(), N=N, dt=dtM, dj=dJ)\n",
    "fM = WB.freqs\n",
    "\n",
    "wdat = WB.cwt(h)\n",
    "wpow = np.real(wdat*wdat.conj())"
   ]
  },
  {
   "cell_type": "code",
   "execution_count": null,
   "metadata": {},
   "outputs": [],
   "source": [
    "fig = plt.figure(figsize=(8,6))\n",
    "ax = fig.add_subplot(111)\n",
    "ax.pcolormesh(tM, fM, wpow, cmap='YlOrRd')\n",
    "\n",
    "ax.set_xlabel('$t/M$', fontsize=20);\n",
    "ax.set_ylabel('$fM$', fontsize=20);\n",
    "ax.tick_params(labelsize=16)\n",
    "\n",
    "ax.set_yscale('log')"
   ]
  },
  {
   "cell_type": "code",
   "execution_count": null,
   "metadata": {},
   "outputs": [],
   "source": [
    "# find local maxima for f\n",
    "jj_local_max = np.argmax(wpow[:,ii_local_max], axis=0)\n",
    "\n",
    "tf_correct = [[tM[ii], fM[jj]] for ii,jj in zip(ii_local_max, jj_local_max)]"
   ]
  },
  {
   "cell_type": "markdown",
   "metadata": {},
   "source": [
    "these are the **correct** burst locations"
   ]
  },
  {
   "cell_type": "code",
   "execution_count": null,
   "metadata": {},
   "outputs": [],
   "source": [
    "ts, fs = np.array(tf_correct).T\n",
    "\n",
    "fig = plt.figure(figsize=(8,6))\n",
    "ax = fig.add_subplot(111)\n",
    "ax.pcolormesh(tM, fM, wpow, cmap='Blues')\n",
    "ax.scatter(ts, fs, marker='x', s=100, c='r')\n",
    "\n",
    "ax.set_xlabel('$t/M$', fontsize=20);\n",
    "ax.set_ylabel('$fM$', fontsize=20);\n",
    "ax.tick_params(labelsize=16)\n",
    "\n",
    "ax.set_yscale('log')"
   ]
  },
  {
   "cell_type": "markdown",
   "metadata": {},
   "source": [
    "# Prior Stuff"
   ]
  },
  {
   "cell_type": "code",
   "execution_count": null,
   "metadata": {},
   "outputs": [],
   "source": [
    "Mtot = 30  # total mass\n",
    "q = 0.25  # mass ratio\n",
    "\n",
    "eb = EccBurst(q)  # works in units of total mass, completely determined by mass ratio!"
   ]
  },
  {
   "cell_type": "markdown",
   "metadata": {},
   "source": [
    "## get meta params $t_*, f_*, r_{p*}, \\delta e_*$"
   ]
  },
  {
   "cell_type": "code",
   "execution_count": null,
   "metadata": {},
   "outputs": [],
   "source": [
    "i_bright = 2  # the pre-merger burst (brightest!?)\n",
    "tstar, fstar = tf_correct[i_bright]  \n",
    "\n",
    "rpstar = (2*np.pi*fstar)**(-2/3) # periastron of burst via Kepler (-> * M^(1/3) = 1)\n",
    "\n",
    "# find eccentricity for this burst\n",
    "tprev, fprev = tf_correct[i_bright-1]\n",
    "tnext, fnext = tf_correct[i_bright+1]\n",
    "\n",
    "\n",
    "# also check fprev/fnext? rewrite as lambda statement?\n",
    "def diff_back_t(de):\n",
    "    \"\"\"find ecc that minimizes the difference\"\"\"\n",
    "    rpstar =  ((2-de)/(2*np.pi*fstar)**2)**(1/3)\n",
    "    t, f = eb.tf_backward(tstar, fstar, rpstar, de, re=False)\n",
    "    return np.abs(t - tprev)\n",
    "\n",
    "def diff_for_t(de):\n",
    "    \"\"\"find ecc that minimizes the difference\"\"\"\n",
    "    rpstar =  ((2-de)/(2*np.pi*fstar)**2)**(1/3)\n",
    "    t, f = eb.tf_forward(tstar, fstar, rpstar, de, re=False)\n",
    "    return np.abs(t - tnext)\n",
    "\n",
    "result = minimize_scalar(diff_back_t, bracket=(0.1, 0.4, 0.8), tol=1e-6)\n",
    "de_back_t = result.x\n",
    "\n",
    "result = minimize_scalar(diff_for_t, bracket=(0.1, 0.4, 0.8), tol=1e-6)\n",
    "de_for_t = result.x\n",
    "\n",
    "rp_back = ((2-de_back_t)/(2*np.pi*fstar)**2)**(1/3)\n",
    "rp_for = ((2-de_for_t)/(2*np.pi*fstar)**2)**(1/3)\n",
    "\n",
    "print(de_back_t, de_for_t)\n",
    "print(rp_back, rp_for)"
   ]
  },
  {
   "cell_type": "code",
   "execution_count": null,
   "metadata": {},
   "outputs": [],
   "source": [
    "tf_correct"
   ]
  },
  {
   "cell_type": "code",
   "execution_count": null,
   "metadata": {},
   "outputs": [],
   "source": []
  },
  {
   "cell_type": "code",
   "execution_count": null,
   "metadata": {},
   "outputs": [],
   "source": [
    "destar = de_back_t # (de_for_t + de_back_t) / 2\n",
    "rpstar = ((2-destar)/(2*np.pi*fstar)**2)**(1/3)"
   ]
  },
  {
   "cell_type": "markdown",
   "metadata": {},
   "source": [
    "### these are the meta params (in units of total mass!)"
   ]
  },
  {
   "cell_type": "code",
   "execution_count": null,
   "metadata": {},
   "outputs": [],
   "source": [
    "print(\"Mc = {:.4f}\".format(eb.Mchirp))\n",
    "print(\" t = {:.4f}\".format(tstar))\n",
    "print(\" f = {:.4f}\".format(fstar))\n",
    "print(\"rp = {:.4f}\".format(rpstar))\n",
    "print(\"de = {:.4f}\".format(destar))"
   ]
  },
  {
   "cell_type": "code",
   "execution_count": null,
   "metadata": {},
   "outputs": [],
   "source": [
    "prior_bursts = eb.get_all_bursts(tstar, fstar, rpstar, destar, tmin=tM[0], tmax=tM[-1])"
   ]
  },
  {
   "cell_type": "markdown",
   "metadata": {},
   "source": [
    "these are **where prior** puts blobs"
   ]
  },
  {
   "cell_type": "code",
   "execution_count": null,
   "metadata": {},
   "outputs": [],
   "source": [
    "ts, fs = np.array(prior_bursts).T\n",
    "\n",
    "fig = plt.figure(figsize=(8,6))\n",
    "ax = fig.add_subplot(111)\n",
    "ax.pcolormesh(tM, fM, wpow, cmap='Blues')\n",
    "ax.scatter(ts, fs, marker='x', s=100, c='r')\n",
    "\n",
    "ax.set_xlabel('$t/M$', fontsize=20);\n",
    "ax.set_ylabel('$fM$', fontsize=20);\n",
    "ax.tick_params(labelsize=16)\n",
    "\n",
    "ax.set_yscale('log')"
   ]
  },
  {
   "cell_type": "markdown",
   "metadata": {},
   "source": [
    "## Convert to SI units"
   ]
  },
  {
   "cell_type": "code",
   "execution_count": null,
   "metadata": {},
   "outputs": [],
   "source": [
    "M2sec = Mtot * Tsun\n",
    "ts = tM * M2sec\n",
    "fs = fM / M2sec\n",
    "\n",
    "tf_prior_SI = [[t*M2sec, f/M2sec] for t,f in prior_bursts]\n",
    "tf_correct_SI = [[t*M2sec, f/M2sec] for t,f in tf_correct]"
   ]
  },
  {
   "cell_type": "markdown",
   "metadata": {},
   "source": [
    "these are the meta paramters in usual units!"
   ]
  },
  {
   "cell_type": "code",
   "execution_count": null,
   "metadata": {},
   "outputs": [],
   "source": [
    "print(\" M = {:.3f} Msun\".format(Mtot))\n",
    "print(\"Mc = {:.3f} Msun\".format(eb.Mchirp*Mtot))\n",
    "print(\" t = {:.3f} sec\".format(tstar*M2sec))\n",
    "print(\" f = {:.3f} Hz\".format(fstar/M2sec))\n",
    "print(\"rp = {:.3f} Mtot\".format(rpstar))\n",
    "print(\"de = {:.3f}\".format(destar))"
   ]
  },
  {
   "cell_type": "markdown",
   "metadata": {},
   "source": [
    "## plot data"
   ]
  },
  {
   "cell_type": "code",
   "execution_count": null,
   "metadata": {},
   "outputs": [],
   "source": [
    "time_box = [0.15, 0.75, 0.8, 0.2] # left, bottom, width, height\n",
    "wave_box = [0.15, 0.15, 0.8, 0.6]"
   ]
  },
  {
   "cell_type": "code",
   "execution_count": null,
   "metadata": {},
   "outputs": [],
   "source": [
    "fig = plt.figure(figsize=(8,6))\n",
    "axt = fig.add_axes(time_box)\n",
    "axt.plot(ts, h/max(h))\n",
    "axt.set_xlim([ts[0],ts[-1]])\n",
    "axt.set_xticklabels([])\n",
    "axt.set_yticklabels([])\n",
    "\n",
    "axw = fig.add_axes(wave_box)\n",
    "axw.pcolormesh(ts, fs, wpow, cmap='Blues')\n",
    "axw.set_ylim([10, 1000]);\n",
    "axw.set_xlabel('$t$ (sec)', fontsize=20);\n",
    "axw.set_ylabel('$f$ (Hz)', fontsize=20);\n",
    "axw.tick_params(labelsize=16)\n",
    "axw.set_yscale('log')"
   ]
  },
  {
   "cell_type": "markdown",
   "metadata": {},
   "source": [
    "## make prior probability map for \"these\" meta params"
   ]
  },
  {
   "cell_type": "code",
   "execution_count": null,
   "metadata": {},
   "outputs": [],
   "source": [
    "delTs, delFs = np.diff(tf_prior_SI, axis=0).T  # actual diffs\n",
    "sigTs = np.hstack([delTs, [delTs[-1]*1.2]]) / 6  # scaled, reuse last entry\n",
    "sigFs = np.hstack([delFs, [delFs[-1]*1.2]]) * 2\n",
    "rhos = np.hstack([np.ones(len(delTs))*0.0, [0]])  # rho in +/-[0,1)\n",
    "\n",
    "covs = [[[dT**2, dT*dF*rho], [dT*dF*rho, dF**2]]\n",
    "            for dT,dF,rho in zip(sigTs, sigFs, rhos)]\n",
    "\n",
    "def prior_test(t, f):\n",
    "    prob = 0\n",
    "    for (tx, fx), covx in zip(tf_prior_SI, covs):\n",
    "        prob += bigauss([t,f], x0=[tx,fx], cov=covx)\n",
    "    prob /= len(tf_prior_SI)\n",
    "    return prob"
   ]
  },
  {
   "cell_type": "code",
   "execution_count": null,
   "metadata": {},
   "outputs": [],
   "source": [
    "Nf = 100\n",
    "Nt = 300\n",
    "\n",
    "Fs = np.logspace(1, 3, Nf)\n",
    "Ts = np.linspace(ts[0], ts[-1], Nt)\n",
    "\n",
    "prior_map = np.zeros([Nf, Nt])\n",
    "\n",
    "for ii,tt in enumerate(Ts):\n",
    "    for jj,ff in enumerate(Fs):\n",
    "        prior_map[jj,ii] = prior_test(tt, ff)"
   ]
  },
  {
   "cell_type": "code",
   "execution_count": null,
   "metadata": {},
   "outputs": [],
   "source": [
    "t_actual, f_actual = np.array(tf_correct_SI).T\n",
    "\n",
    "fig = plt.figure(figsize=(8,4.8))\n",
    "ax = fig.add_subplot(111)\n",
    "ax.pcolormesh(Ts, Fs, prior_map, cmap='Reds')\n",
    "ax.scatter(t_actual, f_actual, marker='x', s=150, c='navy')\n",
    "ax.set_ylim([10, 1000]);\n",
    "ax.set_xlabel('$t$ (sec)', fontsize=20);\n",
    "ax.set_ylabel('$f$ (Hz)', fontsize=20);\n",
    "ax.tick_params(labelsize=16)\n",
    "ax.set_yscale('log')"
   ]
  },
  {
   "cell_type": "code",
   "execution_count": null,
   "metadata": {},
   "outputs": [],
   "source": []
  },
  {
   "cell_type": "code",
   "execution_count": null,
   "metadata": {},
   "outputs": [],
   "source": []
  },
  {
   "cell_type": "code",
   "execution_count": null,
   "metadata": {},
   "outputs": [],
   "source": []
  },
  {
   "cell_type": "markdown",
   "metadata": {},
   "source": [
    "# Prior function should work like this"
   ]
  },
  {
   "cell_type": "code",
   "execution_count": null,
   "metadata": {},
   "outputs": [],
   "source": [
    "tf_correct_SI  # this is the \"data\""
   ]
  },
  {
   "cell_type": "code",
   "execution_count": null,
   "metadata": {},
   "outputs": [],
   "source": [
    "tf_prior_SI"
   ]
  },
  {
   "cell_type": "code",
   "execution_count": null,
   "metadata": {},
   "outputs": [],
   "source": [
    "def the_prior(tf_from_BW, Mtot, q, rpstar, destar, tstar, fstar):\n",
    "    # enforce priors\n",
    "    if q <= 0 or q > 1:\n",
    "        return 0\n",
    "    if destar < 1e-3 or destar > 0.9:\n",
    "        return 0\n",
    "    if rpstar < 2.5:\n",
    "        return 0\n",
    "\n",
    "    # recompute EccBurst w/ this q\n",
    "    eb.q = q\n",
    "    \n",
    "    # get tstar, fstar in units of total mass\n",
    "    M2sec = Mtot * Tsun\n",
    "    tstar /= M2sec\n",
    "    fstar *= M2sec\n",
    "\n",
    "    # get bursts convert to SI w/ this Mtot\n",
    "    prior_bursts = eb.get_all_bursts(tstar, fstar, rpstar, destar, tmin=tM[0], tmax=tM[-1])\n",
    "    tf_prior_SI = [[t*M2sec, f/M2sec] for t,f in prior_bursts]\n",
    "\n",
    "    sigTs, sigFs = np.array([[1/f, f/6] for t,f in tf_prior_SI]).T\n",
    "    rhos = np.hstack([np.ones(len(delTs))*0.0, [0]])  # rho in +/-[0,1)\n",
    "\n",
    "    covs = [[[dT**2, dT*dF*rho], [dT*dF*rho, dF**2]]\n",
    "              for dT,dF,rho in zip(sigTs, sigFs, rhos)]\n",
    "\n",
    "    prob = 1\n",
    "    for t,f in tf_from_BW:\n",
    "        this_prob = 0\n",
    "        for (tx, fx), covx in zip(tf_prior_SI, covs):\n",
    "            this_prob += bigauss([t,f], x0=[tx,fx], cov=covx)\n",
    "        prob *= this_prob / len(tf_prior_SI)\n",
    "\n",
    "    return prob\n",
    "\n",
    "def log_prior(x, tf_data):\n",
    "    return np.log(the_prior(tf_data, *x))"
   ]
  },
  {
   "cell_type": "code",
   "execution_count": null,
   "metadata": {},
   "outputs": [],
   "source": [
    "np.log(the_prior(tf_correct_SI, *x_start))"
   ]
  },
  {
   "cell_type": "code",
   "execution_count": null,
   "metadata": {},
   "outputs": [],
   "source": [
    "this_x = [34.8564248,  # Mtot\n",
    "          0.2286404,  # q\n",
    "          1.92864714,  # rpstar\n",
    "          0.15210620,  # destar\n",
    "          -0.003017523, # tstar\n",
    "          191.14749]  # fstar\n",
    "the_prior(tf_correct_SI, *this_x)"
   ]
  },
  {
   "cell_type": "code",
   "execution_count": null,
   "metadata": {},
   "outputs": [],
   "source": [
    "nwalkers = 40\n",
    "\n",
    "x_start = np.array([Mtot, q, rpstar, destar, tstar*M2sec, fstar/M2sec])\n",
    "x_vars = np.array([5, 0.05, 1, 0.05, 0.002, 10])\n",
    "ndim = len(x_start)\n",
    "\n",
    "x0 = np.array([x_start + x_vars*np.random.randn(ndim) for i in range(nwalkers)])"
   ]
  },
  {
   "cell_type": "code",
   "execution_count": null,
   "metadata": {
    "scrolled": true
   },
   "outputs": [],
   "source": [
    "sampler = mc.EnsembleSampler(nwalkers, ndim, log_prior, args=[tf_correct_SI])\n",
    "\n",
    "# burn in\n",
    "pos, prob, state = sampler.run_mcmc(x0, 1000);\n",
    "sampler.reset  # throw away\n",
    "\n",
    "# restart from final position of burn\n",
    "pos, prob, state = sampler.run_mcmc(pos, 10000);"
   ]
  },
  {
   "cell_type": "code",
   "execution_count": null,
   "metadata": {},
   "outputs": [],
   "source": [
    "print(\"Mean acceptance fraction: {0:.3f}\"\n",
    "                .format(np.mean(sampler.acceptance_fraction)))"
   ]
  },
  {
   "cell_type": "code",
   "execution_count": null,
   "metadata": {},
   "outputs": [],
   "source": [
    "params = [r\"$M_{tot}$\",\n",
    "          r\"$q$\",\n",
    "          r\"$r_p$\",\n",
    "          r\"$\\delta e$\",\n",
    "          r\"$t_\\star$\",\n",
    "          r\"$f_\\star$\",]\n",
    "\n",
    "corner_kwargs = {'bins':30,\n",
    "                 'labels':params,\n",
    "                 'label_kwargs':{'fontsize':18},\n",
    "                 'show_titles':True,\n",
    "                 'smooth':0.5,\n",
    "                 'plot_datapoints':False,\n",
    "                 'plot_density':True,\n",
    "                 'plot_contours':True,\n",
    "                 'fill_contours':False,}\n",
    "\n",
    "corner(sampler.flatchain, **corner_kwargs);"
   ]
  },
  {
   "cell_type": "code",
   "execution_count": null,
   "metadata": {},
   "outputs": [],
   "source": [
    "fig = plt.figure(figsize=(12,4))\n",
    "\n",
    "ax1 = fig.add_subplot(121)\n",
    "_, bins, _ = ax1.hist(sampler.flatchain[:,4], bins=30)\n",
    "ax2.set_xlabel(r\"$t_\\star (sec)$\")\n",
    "for t,f in tf_correct_SI:\n",
    "    if t>bins[0] and t<bins[-1]:\n",
    "        ax1.axvline(x=t, color='C1')\n",
    "\n",
    "ax2 = fig.add_subplot(122)\n",
    "_, bins, _ = ax2.hist(sampler.flatchain[:,5], bins=30)\n",
    "ax2.set_xlabel(r\"$f_\\star (Hz)$\")\n",
    "for t,f in tf_correct_SI:\n",
    "    if f>bins[0] and f<bins[-1]:\n",
    "        ax2.axvline(x=f, color='C1')"
   ]
  },
  {
   "cell_type": "code",
   "execution_count": null,
   "metadata": {},
   "outputs": [],
   "source": [
    "Mq_ch = sampler.flatchain[:,:2]\n",
    "Mq_pars = [r\"$M_{tot}$\",\n",
    "           r\"$q$\"]\n",
    "\n",
    "truths = [Mtot, q]\n",
    "\n",
    "corner_kwargs = {'bins':30,\n",
    "                 'labels':Mq_pars,\n",
    "                 'label_kwargs':{'fontsize':18},\n",
    "                 'show_titles':True,\n",
    "                 'truths':truths,\n",
    "                 'smooth':0.5,\n",
    "                 'plot_datapoints':False,\n",
    "                 'plot_density':True,\n",
    "                 'plot_contours':True,\n",
    "                 'fill_contours':False,}\n",
    "\n",
    "corner(Mq_ch, **corner_kwargs);"
   ]
  },
  {
   "cell_type": "code",
   "execution_count": null,
   "metadata": {},
   "outputs": [],
   "source": []
  },
  {
   "cell_type": "code",
   "execution_count": null,
   "metadata": {},
   "outputs": [],
   "source": [
    "def prior(t, f, Mtot, q, rpstar, destar, tstar, fstar):\n",
    "    \"\"\"compute prior for wavelet at (t,f)\n",
    "    depends on physical metaparams...\n",
    "    \"\"\"\n",
    "    #ts, fs, covs = tf_from_metaparams(Mtot, Mchirp, rpstar, destar, tstar, fstar)\n",
    "\n",
    "    prob = 0\n",
    "    for tx, fx, cx in zip(ts, fs, covs):\n",
    "        prob += bigauss([t,f], x0=[tx,fx], cov=cx)\n",
    "    prob /= len(ts)\n",
    "\n",
    "    return prob"
   ]
  },
  {
   "cell_type": "markdown",
   "metadata": {},
   "source": [
    "## generate prior maps from samples"
   ]
  },
  {
   "cell_type": "code",
   "execution_count": null,
   "metadata": {},
   "outputs": [],
   "source": [
    "bounds = [-0.070, -0.050, -0.033, -0.009]\n",
    "_, bins, _ = plt.hist(sampler.flatchain[:,4], bins=30)\n",
    "ax2.set_xlabel(r\"$t_\\star (sec)$\")\n",
    "for t in bounds:\n",
    "    if t>bins[0] and t<bins[-1]:\n",
    "        plt.axvline(x=t, color='C1')"
   ]
  },
  {
   "cell_type": "code",
   "execution_count": null,
   "metadata": {},
   "outputs": [],
   "source": [
    "cond = sampler.flatchain[:,4]<bounds[0]\n",
    "subchain0 = sampler.flatchain[cond]\n",
    "\n",
    "cond = np.bitwise_and(sampler.flatchain[:,4]>bounds[0], sampler.flatchain[:,4]<bounds[1])\n",
    "subchain1 = sampler.flatchain[cond]\n",
    "\n",
    "cond = np.bitwise_and(sampler.flatchain[:,4]>bounds[1], sampler.flatchain[:,4]<bounds[2])\n",
    "subchain2 = sampler.flatchain[cond]\n",
    "\n",
    "cond = np.bitwise_and(sampler.flatchain[:,4]>bounds[2], sampler.flatchain[:,4]<bounds[3])\n",
    "subchain3 = sampler.flatchain[cond]\n",
    "\n",
    "cond = sampler.flatchain[:,4]>bounds[3]\n",
    "subchain4 = sampler.flatchain[cond]"
   ]
  },
  {
   "cell_type": "code",
   "execution_count": null,
   "metadata": {},
   "outputs": [],
   "source": [
    "params = [r\"$M_{tot}$\",\n",
    "          r\"$q$\",\n",
    "          r\"$r_p$\",\n",
    "          r\"$\\delta e$\",\n",
    "          r\"$t_\\star$\",\n",
    "          r\"$f_\\star$\",]\n",
    "\n",
    "corner_kwargs = {'bins':30,\n",
    "                 'labels':params,\n",
    "                 'label_kwargs':{'fontsize':18},\n",
    "                 'show_titles':True,\n",
    "                 'smooth':0.5,\n",
    "                 'plot_datapoints':False,\n",
    "                 'plot_density':True,\n",
    "                 'plot_contours':True,\n",
    "                 'fill_contours':False,}\n",
    "\n",
    "corner(subchain4, **corner_kwargs);"
   ]
  },
  {
   "cell_type": "code",
   "execution_count": null,
   "metadata": {},
   "outputs": [],
   "source": [
    "# subchain 1\n",
    "Mtot = 31\n",
    "q = 0.63\n",
    "rpstar = 3.72\n",
    "destar = 0.31\n",
    "tstar = -0.056 *(Mtot*Tsun)\n",
    "fstar = 225 /(Mtot*Tsun)\n",
    "the_prior(tf_correct_SI, Mtot, q, rpstar, destar, tstar, fstar)"
   ]
  },
  {
   "cell_type": "code",
   "execution_count": null,
   "metadata": {},
   "outputs": [],
   "source": [
    "# subchain 2\n",
    "Mtot = 31\n",
    "q = 0.25\n",
    "rpstar = 3.3\n",
    "destar = 0.33\n",
    "tstar = -0.043\n",
    "fstar = 170\n",
    "the_prior(tf_correct_SI, Mtot, q, rpstar, destar, tstar, fstar)"
   ]
  },
  {
   "cell_type": "code",
   "execution_count": null,
   "metadata": {},
   "outputs": [],
   "source": [
    "# subchain 4\n",
    "Mtot = 22\n",
    "q = 0.10\n",
    "rpstar = 5\n",
    "destar = 0.31\n",
    "tstar = 0\n",
    "fstar = 170\n",
    "the_prior(tf_correct_SI, Mtot, q, rpstar, destar, tstar, fstar)"
   ]
  },
  {
   "cell_type": "code",
   "execution_count": null,
   "metadata": {},
   "outputs": [],
   "source": [
    "Nf = 100\n",
    "Nt = 300\n",
    "\n",
    "Fs = np.logspace(1, 3, Nf)\n",
    "Ts = np.linspace(ts[0], ts[-1], Nt)\n",
    "\n",
    "prior_map = np.zeros([Nf, Nt])\n",
    "\n",
    "for ii,tt in enumerate(Ts):\n",
    "    for jj,ff in enumerate(Fs):\n",
    "        prior_map[jj,ii] = the_prior([[tt,ff]], Mtot, q, rpstar, destar, tstar, fstar)"
   ]
  },
  {
   "cell_type": "code",
   "execution_count": null,
   "metadata": {},
   "outputs": [],
   "source": [
    "t_actual, f_actual = np.array(tf_correct_SI).T\n",
    "\n",
    "fig = plt.figure(figsize=(8,4.8))\n",
    "ax = fig.add_subplot(111)\n",
    "ax.pcolormesh(Ts, Fs, prior_map, cmap='Reds')\n",
    "ax.scatter(t_actual, f_actual, marker='x', s=150, c='navy')\n",
    "ax.set_ylim([10, 1000]);\n",
    "ax.set_xlabel('$t$ (sec)', fontsize=20);\n",
    "ax.set_ylabel('$f$ (Hz)', fontsize=20);\n",
    "ax.tick_params(labelsize=16)\n",
    "ax.set_yscale('log')"
   ]
  },
  {
   "cell_type": "code",
   "execution_count": null,
   "metadata": {},
   "outputs": [],
   "source": []
  }
 ],
 "metadata": {
  "kernelspec": {
   "display_name": "Python 3",
   "language": "python",
   "name": "python3"
  },
  "language_info": {
   "codemirror_mode": {
    "name": "ipython",
    "version": 3
   },
   "file_extension": ".py",
   "mimetype": "text/x-python",
   "name": "python",
   "nbconvert_exporter": "python",
   "pygments_lexer": "ipython3",
   "version": "3.6.4"
  }
 },
 "nbformat": 4,
 "nbformat_minor": 2
}
